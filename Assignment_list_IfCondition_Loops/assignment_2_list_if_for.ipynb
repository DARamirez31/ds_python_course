{
 "cells": [
  {
   "cell_type": "markdown",
   "metadata": {},
   "source": [
    "<h2 align=\"center\" style=\"color:blue\">Codebasics Python Course: Exercise - List, If Condition, For Loop</h2>"
   ]
  },
  {
   "cell_type": "markdown",
   "metadata": {},
   "source": [
    "### Task 1\n",
    "\n",
    "1. You are a Marvel fan and created a list of superheroes.\n",
    "\n",
    "```py\n",
    "avengers  = [‘Iron Man’, ‘Captain America’, ‘Black Widow’, ‘Hulk’, ‘Thor’, ‘Hawkeye’]\n",
    "```\n",
    "\n",
    "Using this list, calculate how many members in the Avengers team?\n",
    "\n"
   ]
  },
  {
   "cell_type": "code",
   "metadata": {
    "ExecuteTime": {
     "end_time": "2025-07-23T01:43:19.672563Z",
     "start_time": "2025-07-23T01:43:19.664262Z"
    }
   },
   "source": [
    "avengers  = ['Iron Man', 'Captain America', 'Black Widow', 'Hulk', 'Thor', 'Hawkeye']"
   ],
   "outputs": [],
   "execution_count": 7
  },
  {
   "cell_type": "code",
   "metadata": {
    "ExecuteTime": {
     "end_time": "2025-07-23T01:43:22.522905Z",
     "start_time": "2025-07-23T01:43:22.515154Z"
    }
   },
   "source": [
    "# write your code here to print total number of members in avengers team\n",
    "print(len(avengers))"
   ],
   "outputs": [
    {
     "name": "stdout",
     "output_type": "stream",
     "text": [
      "6\n"
     ]
    }
   ],
   "execution_count": 8
  },
  {
   "cell_type": "markdown",
   "metadata": {},
   "source": [
    "### Task 2\n",
    "\n",
    "Awesome. Now Iron Man made Spider-Man a new member of the Avengers, add him to your list at the end"
   ]
  },
  {
   "cell_type": "code",
   "metadata": {
    "ExecuteTime": {
     "end_time": "2025-07-23T01:43:24.849988Z",
     "start_time": "2025-07-23T01:43:24.841622Z"
    }
   },
   "source": [
    "# write your code here\n",
    "avengers.append(\"Spider-Man\")\n",
    "print(avengers)"
   ],
   "outputs": [
    {
     "name": "stdout",
     "output_type": "stream",
     "text": [
      "['Iron Man', 'Captain America', 'Black Widow', 'Hulk', 'Thor', 'Hawkeye', 'Spider-Man']\n"
     ]
    }
   ],
   "execution_count": 9
  },
  {
   "cell_type": "markdown",
   "metadata": {},
   "source": [
    "### Task 3\n",
    "\n",
    "Looks like you are loving this avengers exercise already😄, Let's add a twist to it. Everyone came to a conclusion that Captain America is the leader of the Avengers, so please add him before the Iron Man. Hint: You can first remove him from the list and add before the Iron Man. To remove him you can use a method called .pop()\n",
    "\n",
    "💡 Feel free to take help of ChatGPT just in case you are confused about pop() method. Remember becoming a good Python programmer is all about how well you can learn new things on your own"
   ]
  },
  {
   "cell_type": "code",
   "metadata": {
    "ExecuteTime": {
     "end_time": "2025-07-23T01:46:58.871515Z",
     "start_time": "2025-07-23T01:46:58.863742Z"
    }
   },
   "source": [
    "# write your code here\n",
    "avengers_1 = avengers.pop(avengers.index(\"Captain America\"))\n",
    "avengers.insert(0,avengers_1)\n",
    "print(avengers)\n"
   ],
   "outputs": [
    {
     "name": "stdout",
     "output_type": "stream",
     "text": [
      "['Captain America', 'Iron Man', 'Black Widow', 'Hulk', 'Thor', 'Hawkeye', 'Spider-Man']\n"
     ]
    }
   ],
   "execution_count": 10
  },
  {
   "cell_type": "markdown",
   "metadata": {},
   "source": [
    "### Task 4\n",
    "\n",
    "Thor and Hulk are getting angry easily and fight with each other. So you have to separate them with each other. To separate them, move “Black Widow” in between them."
   ]
  },
  {
   "cell_type": "code",
   "metadata": {
    "ExecuteTime": {
     "end_time": "2025-07-23T01:48:38.607120Z",
     "start_time": "2025-07-23T01:48:38.598548Z"
    }
   },
   "source": [
    "# write your code here\n",
    "avengers_2 = avengers.pop(avengers.index(\"Black Widow\"))\n",
    "avengers.insert(3,avengers_2)\n",
    "print(avengers)\n"
   ],
   "outputs": [
    {
     "name": "stdout",
     "output_type": "stream",
     "text": [
      "['Captain America', 'Iron Man', 'Hulk', 'Black Widow', 'Thor', 'Hawkeye', 'Spider-Man']\n"
     ]
    }
   ],
   "execution_count": 11
  },
  {
   "cell_type": "markdown",
   "metadata": {
    "id": "QAGsAcQXOm1c"
   },
   "source": [
    "### Task 5\n",
    "\n",
    "Below list contains scores of students in a class as per their roll number. Which means the first element is for roll # 1, second one is for roll # 2 and so on. Print the scores of,\n",
    "\n",
    "1. The first student\n",
    "1. The last student\n",
    "1. First 3 students\n",
    "1. Scores of roll # 3, 4 and 5"
   ]
  },
  {
   "cell_type": "code",
   "metadata": {
    "id": "5DbTb-5gOecw",
    "ExecuteTime": {
     "end_time": "2025-07-23T01:48:58.650937Z",
     "start_time": "2025-07-23T01:48:58.644377Z"
    }
   },
   "source": [
    "scores = [92, 85, 76, 58, 89, 91, 73, 84]"
   ],
   "outputs": [],
   "execution_count": 12
  },
  {
   "cell_type": "code",
   "metadata": {
    "colab": {
     "base_uri": "https://localhost:8080/"
    },
    "id": "lhYIkj4WPNA_",
    "outputId": "714b44ae-e309-45d2-c29d-6617cbecc508",
    "ExecuteTime": {
     "end_time": "2025-07-23T01:49:54.979980Z",
     "start_time": "2025-07-23T01:49:54.971942Z"
    }
   },
   "source": [
    "# score of the first student\n",
    "print(scores[0])"
   ],
   "outputs": [
    {
     "name": "stdout",
     "output_type": "stream",
     "text": [
      "92\n"
     ]
    }
   ],
   "execution_count": 13
  },
  {
   "cell_type": "code",
   "metadata": {
    "colab": {
     "base_uri": "https://localhost:8080/"
    },
    "id": "VzxH3ly_POxS",
    "outputId": "e5723459-a55a-4e24-93fc-5afe1a99ca60",
    "ExecuteTime": {
     "end_time": "2025-07-23T01:50:13.408268Z",
     "start_time": "2025-07-23T01:50:13.400361Z"
    }
   },
   "source": [
    "# score of the last student\n",
    "print(scores[-1])"
   ],
   "outputs": [
    {
     "name": "stdout",
     "output_type": "stream",
     "text": [
      "84\n"
     ]
    }
   ],
   "execution_count": 14
  },
  {
   "cell_type": "code",
   "metadata": {
    "ExecuteTime": {
     "end_time": "2025-07-23T01:50:50.360616Z",
     "start_time": "2025-07-23T01:50:50.353691Z"
    }
   },
   "source": [
    "# scores of the first 3 students\n",
    "print(scores[: 3])"
   ],
   "outputs": [
    {
     "name": "stdout",
     "output_type": "stream",
     "text": [
      "[92, 85, 76]\n"
     ]
    }
   ],
   "execution_count": 15
  },
  {
   "cell_type": "code",
   "metadata": {
    "scrolled": true,
    "ExecuteTime": {
     "end_time": "2025-07-23T01:51:35.313765Z",
     "start_time": "2025-07-23T01:51:35.305862Z"
    }
   },
   "source": [
    "# scores of roll # 3, 4 and 5\n",
    "print(scores[2:5])"
   ],
   "outputs": [
    {
     "name": "stdout",
     "output_type": "stream",
     "text": [
      "[76, 58, 89]\n"
     ]
    }
   ],
   "execution_count": 18
  },
  {
   "cell_type": "markdown",
   "metadata": {},
   "source": [
    "### Task 6\n",
    "\n",
    "We got a result of one more student which is 83 marks. Append this to the ```scores``` at the end and print the list"
   ]
  },
  {
   "cell_type": "code",
   "metadata": {
    "colab": {
     "base_uri": "https://localhost:8080/",
     "height": 130
    },
    "id": "qHskWLeFPUSa",
    "outputId": "45d183f1-a28a-4e80-aee3-90d984dbbfae",
    "ExecuteTime": {
     "end_time": "2025-07-23T01:52:09.477851Z",
     "start_time": "2025-07-23T01:52:09.472567Z"
    }
   },
   "source": [
    "# write your code here\n",
    "scores.append(83)"
   ],
   "outputs": [],
   "execution_count": 19
  },
  {
   "cell_type": "markdown",
   "metadata": {},
   "source": [
    "### Task 7\n",
    "\n",
    "Categorizes each score into a grade based on the following thresholds:\n",
    "\n",
    "1. A: 90 to 100\n",
    "1. B: 80 to 89\n",
    "1. C: 70 to 79\n",
    "1. D: 60 to 69\n",
    "1. F: Below 60\n",
    "\n",
    "Count the number of students in each grade category and print the summary of how many students received each grade. \n",
    "\n",
    "Expected output\n",
    "\n",
    "```\n",
    "Grade Summary:\n",
    "- A: 2 students\n",
    "- B: 4 students\n",
    "- C: 2 students\n",
    "- D: 0 students\n",
    "- F: 1 students\n",
    "```"
   ]
  },
  {
   "cell_type": "code",
   "metadata": {
    "id": "h-7Ro-oVQDVB",
    "ExecuteTime": {
     "end_time": "2025-07-23T02:01:49.415905Z",
     "start_time": "2025-07-23T02:01:49.407612Z"
    }
   },
   "source": [
    "# write your code here\n",
    "A=0\n",
    "B=0\n",
    "C=0\n",
    "D=0\n",
    "F=0\n",
    "for score in scores:\n",
    "    if score >=90 and score <=100:\n",
    "        grade = \"A\"\n",
    "        A= A + 1\n",
    "    elif score >=80 and score <90:\n",
    "        grade = \"B\"\n",
    "        B= B + 1\n",
    "    elif score >=70 and score <80:\n",
    "        grade = \"C\"\n",
    "        C= C + 1\n",
    "    elif score >=60 and score <70:\n",
    "        grade = \"D\"\n",
    "        D= D + 1\n",
    "    elif score <60:\n",
    "        grade = \"F\"\n",
    "        F= F + 1\n",
    "print(f\"A: {A} students\")\n",
    "print(f\"B: {B} students\")\n",
    "print(f\"C: {C} students\")\n",
    "print(f\"D: {D} students\")\n",
    "print(f\"F: {F} students\")"
   ],
   "outputs": [
    {
     "name": "stdout",
     "output_type": "stream",
     "text": [
      "A: 2 students\n",
      "B: 4 students\n",
      "C: 2 students\n",
      "D: 0 students\n",
      "F: 1 students\n"
     ]
    }
   ],
   "execution_count": 29
  },
  {
   "cell_type": "markdown",
   "metadata": {},
   "source": [
    "### Task 8\n",
    "\n",
    "Managing inventory efficiently is crucial for businesses to ensure they do not run out of key products. This exercise simulates a simple inventory management system where the user can see which items are below the minimum stock level and need reordering. Below you have two lists that stores product names and their inventory stock levels.Using that,\n",
    "\n",
    "1. Check each item to see if its stock level is below a minimum threshold.\n",
    "1. If the stock level is below the minimum, add the product's name to a reorder list.\n",
    "1. Print a list of products that need to be reordered.\n",
    "\n",
    "Expected Output\n",
    "```\n",
    "Items to Reorder:\n",
    "- Pears\n",
    "- Grapes\n",
    "```"
   ]
  },
  {
   "cell_type": "code",
   "metadata": {
    "scrolled": true,
    "ExecuteTime": {
     "end_time": "2025-07-23T02:04:28.441006Z",
     "start_time": "2025-07-23T02:04:28.433126Z"
    }
   },
   "source": [
    "# Lists to store product names and stock levels\n",
    "product_names = [\"Apples\", \"Bananas\", \"Oranges\", \"Pears\", \"Grapes\"]\n",
    "stock_levels = [20, 50, 15, 5, 8]\n",
    "\n",
    "minimum_stock = 10  # Minimum stock before reordering"
   ],
   "outputs": [],
   "execution_count": 30
  },
  {
   "cell_type": "code",
   "metadata": {
    "ExecuteTime": {
     "end_time": "2025-07-23T02:09:26.342050Z",
     "start_time": "2025-07-23T02:09:26.332171Z"
    }
   },
   "source": [
    "# write your code here\n",
    "reorder = []\n",
    "for product,stock in zip(product_names, stock_levels):\n",
    "    if stock < minimum_stock:\n",
    "         reorder.append(product)\n",
    "print(reorder)"
   ],
   "outputs": [
    {
     "name": "stdout",
     "output_type": "stream",
     "text": [
      "['Pears', 'Grapes']\n"
     ]
    }
   ],
   "execution_count": 33
  }
 ],
 "metadata": {
  "colab": {
   "collapsed_sections": [],
   "name": "1_Variables.ipynb",
   "provenance": []
  },
  "kernelspec": {
   "display_name": "Python 3 (ipykernel)",
   "language": "python",
   "name": "python3"
  },
  "language_info": {
   "codemirror_mode": {
    "name": "ipython",
    "version": 3
   },
   "file_extension": ".py",
   "mimetype": "text/x-python",
   "name": "python",
   "nbconvert_exporter": "python",
   "pygments_lexer": "ipython3",
   "version": "3.10.11"
  }
 },
 "nbformat": 4,
 "nbformat_minor": 1
}
