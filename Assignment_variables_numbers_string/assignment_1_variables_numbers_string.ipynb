{
 "cells": [
  {
   "cell_type": "markdown",
   "metadata": {},
   "source": [
    "<h2 align=\"center\" style=\"color:blue\">Codebasics Python Course: Exercise - Variables, Numbers, Strings</h2>"
   ]
  },
  {
   "cell_type": "markdown",
   "metadata": {
    "id": "QAGsAcQXOm1c"
   },
   "source": [
    "### Task 1\n",
    "\n",
    "Create a variable named pi and store the value 22/7 in it. Now check the data type of this variable."
   ]
  },
  {
   "cell_type": "code",
   "metadata": {
    "id": "5DbTb-5gOecw",
    "ExecuteTime": {
     "end_time": "2025-07-22T22:48:29.041905Z",
     "start_time": "2025-07-22T22:48:29.033106Z"
    }
   },
   "source": [
    "pi=22/7\n",
    "print(type(pi))\n"
   ],
   "outputs": [
    {
     "name": "stdout",
     "output_type": "stream",
     "text": [
      "<class 'float'>\n"
     ]
    }
   ],
   "execution_count": 1
  },
  {
   "cell_type": "markdown",
   "metadata": {},
   "source": [
    "### Task 2\n",
    "\n",
    "Create a variable called ```for``` and assign it a value 4. See what happens and find out the reason behind the behavior that you see."
   ]
  },
  {
   "cell_type": "code",
   "metadata": {
    "colab": {
     "base_uri": "https://localhost:8080/",
     "height": 130
    },
    "id": "qHskWLeFPUSa",
    "outputId": "45d183f1-a28a-4e80-aee3-90d984dbbfae",
    "ExecuteTime": {
     "end_time": "2025-07-22T22:48:47.513510Z",
     "start_time": "2025-07-22T22:48:47.504801Z"
    }
   },
   "source": [
    "for=4\n",
    "#It's a keyword in python, so we cannot use it as a variable name. It will throw a syntax error."
   ],
   "outputs": [
    {
     "ename": "SyntaxError",
     "evalue": "invalid syntax (3180249646.py, line 1)",
     "output_type": "error",
     "traceback": [
      "  \u001B[36mCell\u001B[39m\u001B[36m \u001B[39m\u001B[32mIn[2]\u001B[39m\u001B[32m, line 1\u001B[39m\n\u001B[31m    \u001B[39m\u001B[31mfor=4\u001B[39m\n       ^\n\u001B[31mSyntaxError\u001B[39m\u001B[31m:\u001B[39m invalid syntax\n"
     ]
    }
   ],
   "execution_count": 2
  },
  {
   "cell_type": "markdown",
   "metadata": {},
   "source": [
    "### Task 3\n",
    "\n",
    "Below we have defined the variables for storing the principal amount, rate of interest and time. You need to calculate the simple interest for 3 years. Once simple interest is calculated, calculate the total amount you will have at the end of the tenure"
   ]
  },
  {
   "cell_type": "code",
   "metadata": {
    "id": "h-7Ro-oVQDVB",
    "ExecuteTime": {
     "end_time": "2025-07-22T22:50:12.061751Z",
     "start_time": "2025-07-22T22:50:12.054690Z"
    }
   },
   "source": [
    "principle_amount = 567.00\n",
    "rate_of_interest = 5.6\n",
    "time = 3"
   ],
   "outputs": [],
   "execution_count": 4
  },
  {
   "cell_type": "markdown",
   "metadata": {
    "id": "vlTW7195RAUb"
   },
   "source": [
    "Now let's calculate the simple intrest using simple math formula:\n",
    "\n",
    "`simple interest  = P x R x T / 100`\n",
    "\n",
    "where: \n",
    " \n",
    "    P = principle amount\n",
    "    R = rate of interest\n",
    "    T = time \n",
    "\n"
   ]
  },
  {
   "cell_type": "code",
   "metadata": {
    "id": "36-AbY5WQemi",
    "ExecuteTime": {
     "end_time": "2025-07-22T22:50:25.741247Z",
     "start_time": "2025-07-22T22:50:25.734847Z"
    }
   },
   "source": [
    "simple_interest=(principle_amount * rate_of_interest * time) / 100\n",
    "print(simple_interest)"
   ],
   "outputs": [
    {
     "name": "stdout",
     "output_type": "stream",
     "text": [
      "95.25599999999999\n"
     ]
    }
   ],
   "execution_count": 6
  },
  {
   "cell_type": "code",
   "metadata": {
    "colab": {
     "base_uri": "https://localhost:8080/"
    },
    "id": "6OXTiuuIQyu4",
    "outputId": "effe44d7-640a-44a5-f9a7-8d3a9c3cbbc6",
    "ExecuteTime": {
     "end_time": "2025-07-22T22:51:23.464436Z",
     "start_time": "2025-07-22T22:51:23.457635Z"
    }
   },
   "source": [
    "# calculate total amount after including interest\n",
    "total_amount= principle_amount + simple_interest\n",
    "print(total_amount)"
   ],
   "outputs": [
    {
     "name": "stdout",
     "output_type": "stream",
     "text": [
      "662.256\n"
     ]
    }
   ],
   "execution_count": 7
  },
  {
   "cell_type": "markdown",
   "metadata": {},
   "source": [
    "### Task 4\n",
    "\n",
    "There is a circular pond in a village. This pond has a radius of 84 meter. Can you find the area of the pond?"
   ]
  },
  {
   "cell_type": "code",
   "metadata": {
    "scrolled": true,
    "ExecuteTime": {
     "end_time": "2025-07-22T22:54:01.843975Z",
     "start_time": "2025-07-22T22:54:01.834736Z"
    }
   },
   "source": [
    "# write your code here\n",
    "import math as m\n",
    "radio=84\n",
    "area_of_circle = m.pi*radio**2\n",
    "print(area_of_circle)\n"
   ],
   "outputs": [
    {
     "name": "stdout",
     "output_type": "stream",
     "text": [
      "22167.07776372958\n"
     ]
    }
   ],
   "execution_count": 8
  },
  {
   "cell_type": "markdown",
   "metadata": {},
   "source": [
    "### Task 5\n",
    "\n",
    "If there is a 2000 liter water in a square meter, what is the total amount of water in this pond?\n",
    "\n",
    "**Note:** For simplicity, use the value of pi as 3.14."
   ]
  },
  {
   "cell_type": "code",
   "metadata": {
    "ExecuteTime": {
     "end_time": "2025-07-22T22:57:31.744586Z",
     "start_time": "2025-07-22T22:57:31.736621Z"
    }
   },
   "source": [
    "# write your code here\n",
    "amount_of_water=2000*area_of_circle\n",
    "print(amount_of_water)"
   ],
   "outputs": [
    {
     "name": "stdout",
     "output_type": "stream",
     "text": [
      "44334155.52745916\n"
     ]
    }
   ],
   "execution_count": 9
  },
  {
   "cell_type": "markdown",
   "metadata": {},
   "source": [
    "### Task 6\n",
    "\n",
    "If you cross a 490-meter-long street in 7 minutes, then what is your speed in meter per seconds. Print your answer with only two decimal points\n",
    "\n",
    "Hint:\n",
    "        Speed = Distance / Time"
   ]
  },
  {
   "cell_type": "code",
   "metadata": {
    "ExecuteTime": {
     "end_time": "2025-07-22T22:59:23.897192Z",
     "start_time": "2025-07-22T22:59:23.890164Z"
    }
   },
   "source": [
    "# write your code here\n",
    "Distance=490  # in meters\n",
    "Time=7*60  # converting minutes to seconds\n",
    "speed=Distance/Time  # in meters per second\n",
    "print(round(speed,2))  # rounding to two decimal points"
   ],
   "outputs": [
    {
     "name": "stdout",
     "output_type": "stream",
     "text": [
      "1.17\n"
     ]
    }
   ],
   "execution_count": 10
  },
  {
   "cell_type": "markdown",
   "metadata": {},
   "source": [
    "### Task 7\n",
    "\n",
    "Create two variables to store how many fruits and vegetables you eat in a day. The value should be numeric for example 3 fruits and 4 vegetables. Now Print \"I eat x vegetables and y fruits daily\" where x and y presents vegetables and fruits that you eat every day. Use python f string for this."
   ]
  },
  {
   "cell_type": "code",
   "metadata": {
    "ExecuteTime": {
     "end_time": "2025-07-22T23:00:04.392709Z",
     "start_time": "2025-07-22T23:00:04.383730Z"
    }
   },
   "source": [
    "# write your code here\n",
    "fruits=3\n",
    "vegetables=2\n",
    "print(f\"I eat {vegetables} vegetables and {fruits} fruits daily.\")"
   ],
   "outputs": [
    {
     "name": "stdout",
     "output_type": "stream",
     "text": [
      "I eat 2 vegetables and 3 fruits daily.\n"
     ]
    }
   ],
   "execution_count": 11
  },
  {
   "cell_type": "markdown",
   "metadata": {},
   "source": [
    "### Task 8\n",
    "\n",
    "Create a variable and store the string “The Himalayas are one of the youngest mountain range on the planet.”\n",
    "\n",
    "1. Print ‘The Himalayas’ using slice operator\n",
    "1. Print “mountain range” using negative index\n",
    "1. Print “The Himalayas on the planet” using slice as well as f-string"
   ]
  },
  {
   "cell_type": "code",
   "metadata": {
    "ExecuteTime": {
     "end_time": "2025-07-22T23:03:01.584759Z",
     "start_time": "2025-07-22T23:03:01.574780Z"
    }
   },
   "source": [
    "# write your code here\n",
    "text=\"The Himalayas are one of the youngest mountain range on the planet.\"\n",
    "print(text[0:13])  # The Himalayas\n",
    "print(text[-30:-15])  # mountain range\n",
    "print(f\"{text[0:13]} {text[-14:]}\")  # The Himalayas on the planet\n"
   ],
   "outputs": [
    {
     "name": "stdout",
     "output_type": "stream",
     "text": [
      "The Himalayas\n",
      " mountain range\n",
      "The Himalayas on the planet.\n"
     ]
    }
   ],
   "execution_count": 14
  },
  {
   "cell_type": "markdown",
   "metadata": {},
   "source": [
    "### Task 9\n",
    "\n",
    "You have created a string variable called string= ”There are 9 planets in the solar system”. After some time, you have realized that your sentence is incorrect and there are only 8 planets, now correct your sentence by replacing the incorrect words."
   ]
  },
  {
   "cell_type": "code",
   "metadata": {
    "ExecuteTime": {
     "end_time": "2025-07-22T23:05:30.322172Z",
     "start_time": "2025-07-22T23:05:30.315043Z"
    }
   },
   "source": [
    "# write your code here\n",
    "string=\"There are 9 planets in the solar system\"\n",
    "\n",
    "# Correcting the sentence in one line\n",
    "print(string.replace('9','8'))"
   ],
   "outputs": [
    {
     "name": "stdout",
     "output_type": "stream",
     "text": [
      "There are 8 planets in the solar system\n"
     ]
    }
   ],
   "execution_count": 18
  },
  {
   "cell_type": "markdown",
   "metadata": {},
   "source": [
    "### Task 10\n",
    "\n",
    "Imagine you are a shop owner tracking sales of three products throughout the day. At the end of the day, you want to calculate the total sales from these products. Product quantity and prices are given below in the next code cell,\n",
    "\n",
    "Task: Write a program that:\n",
    "\n",
    "1. Calculates the total sales for each product.\n",
    "1. Summarizes the total sales for the day.\n",
    "1. Prints this summary in a formatted manner.\n",
    "\n",
    "Expected Output:\n",
    "\n",
    "```\n",
    "Daily Sales Summary:\n",
    "- Product 1: Sold 15 units at $20.0 each, Total: $300.0\n",
    "- Product 2: Sold 10 units at $35.0 each, Total: $350.0\n",
    "- Product 3: Sold 20 units at $12.0 each, Total: $240.0\n",
    "Total Sales for the Day: $890.0\n",
    "```"
   ]
  },
  {
   "cell_type": "code",
   "metadata": {
    "ExecuteTime": {
     "end_time": "2025-07-22T23:11:19.411034Z",
     "start_time": "2025-07-22T23:11:19.404133Z"
    }
   },
   "source": [
    "# Prices and quantities for each product\n",
    "product1_price = 20.0  # Price per unit for product 1\n",
    "product1_quantity = 15  # Quantity sold of product 1\n",
    "\n",
    "product2_price = 35.0  # Price per unit for product 2\n",
    "product2_quantity = 10  # Quantity sold of product 2\n",
    "\n",
    "product3_price = 12.0  # Price per unit for product 3\n",
    "product3_quantity = 20  # Quantity sold of product 3"
   ],
   "outputs": [],
   "execution_count": 25
  },
  {
   "cell_type": "code",
   "metadata": {
    "ExecuteTime": {
     "end_time": "2025-07-22T23:15:51.351160Z",
     "start_time": "2025-07-22T23:15:51.340738Z"
    }
   },
   "source": [
    "# write your code here\n",
    "def total_sales(price, quantity):\n",
    "    return price * quantity\n",
    "def print_sales_summary(product1_price,product1_quantity, product2_price, product2_quantity, product3_price, product3_quantity):\n",
    "    total_product1 = total_sales(product1_price, product1_quantity)\n",
    "    total_product2 = total_sales(product2_price, product2_quantity)\n",
    "    total_product3 = total_sales(product3_price, product3_quantity)\n",
    "\n",
    "    total_sales_day = total_product1 + total_product2 + total_product3\n",
    "\n",
    "    print(\"Daily Sales Summary:\")\n",
    "    print(f\"- Product 1: Sold {product1_quantity} units at ${product1_price} each, Total: ${total_product1}\")\n",
    "    print(f\"- Product 2: Sold {product2_quantity} units at ${product2_price} each, Total: ${total_product2}\")\n",
    "    print(f\"- Product 3: Sold {product3_quantity} units at ${product3_price} each, Total: ${total_product3}\")\n",
    "    print(f\"Total Sales for the Day: ${total_sales_day}\")\n",
    "\n",
    "print_sales_summary(product1_price = 20.0,product1_quantity = 15, product2_price = 35.0, product2_quantity = 10, product3_price = 12.0, product3_quantity = 20 )\n"
   ],
   "outputs": [
    {
     "name": "stdout",
     "output_type": "stream",
     "text": [
      "Daily Sales Summary:\n",
      "- Product 1: Sold 15 units at $20.0 each, Total: $300.0\n",
      "- Product 2: Sold 10 units at $35.0 each, Total: $350.0\n",
      "- Product 3: Sold 20 units at $12.0 each, Total: $240.0\n",
      "Total Sales for the Day: $890.0\n"
     ]
    }
   ],
   "execution_count": 28
  }
 ],
 "metadata": {
  "colab": {
   "collapsed_sections": [],
   "name": "1_Variables.ipynb",
   "provenance": []
  },
  "kernelspec": {
   "display_name": "Python 3 (ipykernel)",
   "language": "python",
   "name": "python3"
  },
  "language_info": {
   "codemirror_mode": {
    "name": "ipython",
    "version": 3
   },
   "file_extension": ".py",
   "mimetype": "text/x-python",
   "name": "python",
   "nbconvert_exporter": "python",
   "pygments_lexer": "ipython3",
   "version": "3.10.11"
  }
 },
 "nbformat": 4,
 "nbformat_minor": 4
}
