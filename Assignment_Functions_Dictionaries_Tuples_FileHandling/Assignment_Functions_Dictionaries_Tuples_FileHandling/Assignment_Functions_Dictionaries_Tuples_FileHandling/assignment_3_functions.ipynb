{
 "cells": [
  {
   "cell_type": "markdown",
   "metadata": {},
   "source": [
    "<h2 align=\"center\" style=\"color:blue\">Codebasics Python Course: Exercise - Functions, Dict, Tuples, File Handling</h2>"
   ]
  },
  {
   "cell_type": "markdown",
   "metadata": {},
   "source": [
    "Imagine you run a loyalty program where customers earn rewards based on the total amount they have spent. The rewards levels are defined based on the total purchase amount. Based on this scenario, complete the following tasks"
   ]
  },
  {
   "cell_type": "markdown",
   "metadata": {},
   "source": [
    "### Task 1\n",
    "\n",
    "You are given a file called ```customers.txt``` that contains the name of the customer and total amount they spent. Read this file line by line and save the customer name and total amount in a dictionary.\n",
    "\n",
    "For example, customers.txt file will content the data in the following format,\n",
    "```\n",
    "Srinivas,120\n",
    "John,250\n",
    "Maria,150\n",
    "Smith,510\n",
    "Anjali,45\n",
    "```\n",
    "\n",
    "You will read this and build a dictionary like this,\n",
    "```\n",
    "{\n",
    "    \"Srinivas\": 120,\n",
    "    \"John\": 250,\n",
    "    \"Maria\": 150,\n",
    "    \"Smith\": 510,\n",
    "    \"Anjali\": 45\n",
    "}\n",
    "```"
   ]
  },
  {
   "cell_type": "code",
   "metadata": {
    "ExecuteTime": {
     "end_time": "2025-07-30T01:10:19.336103Z",
     "start_time": "2025-07-30T01:10:19.323928Z"
    }
   },
   "source": [
    "# write your code here\n",
    "with open('customers.txt', 'r') as file:\n",
    "    customers_dict = {}\n",
    "    for line in file:\n",
    "        name, total = line.strip().split(',')\n",
    "        customers_dict[name] = int(total)\n",
    "\n",
    "customers_dict"
   ],
   "outputs": [
    {
     "data": {
      "text/plain": [
       "{'Srinivas': 120,\n",
       " 'John': 250,\n",
       " 'Maria': 150,\n",
       " 'Smith': 510,\n",
       " 'Anjali': 45,\n",
       " 'Navin': 100,\n",
       " 'Santosh': 99}"
      ]
     },
     "execution_count": 5,
     "metadata": {},
     "output_type": "execute_result"
    }
   ],
   "execution_count": 5
  },
  {
   "cell_type": "markdown",
   "metadata": {},
   "source": [
    "### Task 2\n",
    "\n",
    "The rewards levels are defined below based on the total purchase amount. Using this define a function called calculate_rewards that takes total as input and returns the reward.\n",
    "\n",
    "```\n",
    "1. Bronze: Total purchases $100-$199\n",
    "1. Silver: Total purchases $200-$499\n",
    "1. Gold: Total purchases $500+\n",
    "```"
   ]
  },
  {
   "cell_type": "code",
   "metadata": {
    "ExecuteTime": {
     "end_time": "2025-07-30T01:07:59.796699Z",
     "start_time": "2025-07-30T01:07:59.789332Z"
    }
   },
   "source": [
    "# write your code here\n",
    "def calculate_rewards(total):\n",
    "    if total >= 500:\n",
    "        return 'Gold'\n",
    "    elif total >= 200:\n",
    "        return 'Silver'\n",
    "    elif total >= 100:\n",
    "        return 'Bronze'\n",
    "    else:\n",
    "        return 'None'"
   ],
   "outputs": [],
   "execution_count": 3
  },
  {
   "cell_type": "markdown",
   "metadata": {},
   "source": [
    "### Task 3\n",
    "\n",
    "Now for each of the customers in our customers_dict, calculate the rewards and build a customers_summary dictionary that looks like the following, (key is the name of the customer and the value is a tuple containing total amount and rewards level)\n",
    "\n",
    "```\n",
    "{\n",
    "    'Srinivas': (120, 'Bronze'),\n",
    "    'John': (250, 'Silver'),\n",
    "    'Maria': (150, 'Bronze'),\n",
    "    'Smith': (510, 'Gold'),\n",
    "    'Anjali': (45, 'None')\n",
    "}\n",
    "```"
   ]
  },
  {
   "cell_type": "code",
   "metadata": {
    "ExecuteTime": {
     "end_time": "2025-07-30T01:11:43.231228Z",
     "start_time": "2025-07-30T01:11:43.219632Z"
    }
   },
   "source": [
    "# write your code here\n",
    "customers_summary = {}\n",
    "for name, total in customers_dict.items():\n",
    "    customers_summary[name] = (total, calculate_rewards(total))\n",
    "customers_summary"
   ],
   "outputs": [
    {
     "data": {
      "text/plain": [
       "{'Srinivas': (120, 'Bronze'),\n",
       " 'John': (250, 'Silver'),\n",
       " 'Maria': (150, 'Bronze'),\n",
       " 'Smith': (510, 'Gold'),\n",
       " 'Anjali': (45, 'None'),\n",
       " 'Navin': (100, 'Bronze'),\n",
       " 'Santosh': (99, 'None')}"
      ]
     },
     "execution_count": 6,
     "metadata": {},
     "output_type": "execute_result"
    }
   ],
   "execution_count": 6
  },
  {
   "cell_type": "markdown",
   "metadata": {},
   "source": [
    "### Task 4\n",
    "\n",
    "Now stitch all of the above code together and create a function that takes file name as input and returns the customer_summary dictionary.\n",
    "\n",
    "```\n",
    "def process_customer_data(file_name):\n",
    "    # return customer_summary dict\n",
    "```"
   ]
  },
  {
   "cell_type": "code",
   "metadata": {
    "ExecuteTime": {
     "end_time": "2025-07-30T01:14:52.474050Z",
     "start_time": "2025-07-30T01:14:52.462221Z"
    }
   },
   "source": [
    "# write your code here\n",
    "def process_customer_data(file_name):\n",
    "    with open('customers.txt', 'r') as file:\n",
    "        customers_dict = {}\n",
    "        for line in file:\n",
    "            name, total = line.strip().split(',')\n",
    "            customers_dict[name] = int(total)\n",
    "\n",
    "    customers_summary = {}\n",
    "    for name, total in customers_dict.items():\n",
    "        customers_summary[name] = (total, calculate_rewards(total))\n",
    "\n",
    "    return customers_summary\n",
    "\n",
    "final = process_customer_data('customers.txt')\n",
    "final"
   ],
   "outputs": [
    {
     "data": {
      "text/plain": [
       "{'Srinivas': (120, 'Bronze'),\n",
       " 'John': (250, 'Silver'),\n",
       " 'Maria': (150, 'Bronze'),\n",
       " 'Smith': (510, 'Gold'),\n",
       " 'Anjali': (45, 'None'),\n",
       " 'Navin': (100, 'Bronze'),\n",
       " 'Santosh': (99, 'None')}"
      ]
     },
     "execution_count": 11,
     "metadata": {},
     "output_type": "execute_result"
    }
   ],
   "execution_count": 11
  }
 ],
 "metadata": {
  "colab": {
   "collapsed_sections": [],
   "name": "1_Variables.ipynb",
   "provenance": []
  },
  "kernelspec": {
   "display_name": "Python 3 (ipykernel)",
   "language": "python",
   "name": "python3"
  },
  "language_info": {
   "codemirror_mode": {
    "name": "ipython",
    "version": 3
   },
   "file_extension": ".py",
   "mimetype": "text/x-python",
   "name": "python",
   "nbconvert_exporter": "python",
   "pygments_lexer": "ipython3",
   "version": "3.10.11"
  }
 },
 "nbformat": 4,
 "nbformat_minor": 1
}
