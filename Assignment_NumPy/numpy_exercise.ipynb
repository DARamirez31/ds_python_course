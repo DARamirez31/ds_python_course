{
 "cells": [
  {
   "cell_type": "markdown",
   "id": "399f4ab1",
   "metadata": {},
   "source": [
    "<h3 align=\"center\" style=\"color:blue\">Codebasics Python Course: Numpy Exercise</h3>"
   ]
  },
  {
   "cell_type": "markdown",
   "id": "99f1a070",
   "metadata": {},
   "source": [
    "At **AtliQ**, a software service company, the **HR team** wants to understand how happy employees are with company policies and how long they've been with the company. This survey aims to help HR improve the work environment and keep employees satisfied.\n",
    "\n",
    "**Data Structure:** Two numpy arrays capture survey results and employee details:\n",
    "\n",
    "**Employee Details:** Contains Employee ID, Department, and Number of Years with AtliQ.\n",
    "\n",
    "**Survey Results:** Contains Employee ID and Happiness Score (scaled 1-10)."
   ]
  },
  {
   "cell_type": "code",
   "id": "ec997f5a",
   "metadata": {
    "ExecuteTime": {
     "end_time": "2025-08-14T23:39:58.668801Z",
     "start_time": "2025-08-14T23:39:58.572373Z"
    }
   },
   "source": [
    "import numpy as np\n",
    "\n",
    "# Employee Details: Employee ID, Department, Number of Years with AtliQ\n",
    "employee_details = np.array([\n",
    "    [101, 'Sales', 3],  \n",
    "    [102, 'HR', 5],    \n",
    "    [103, 'IT', 2],        \n",
    "    [104, 'Sales', 8],    \n",
    "    [105, 'IT', 6],      \n",
    "    [106, 'HR', 4],           \n",
    "    [107, 'IT', 7],    \n",
    "    [108, 'Sales', 1], \n",
    "    [109, 'HR', 3]          \n",
    "])\n",
    "\n",
    "# Survey Results: Employee ID, Happiness Score (1-10)\n",
    "survey_results = np.array([\n",
    "    [101, 8],\n",
    "    [102, 10],\n",
    "    [103, 9],\n",
    "    [104, 6],\n",
    "    [105, 7],\n",
    "    [106, 8],\n",
    "    [107, 9],\n",
    "    [108, 5],\n",
    "    [109, 7]\n",
    "])\n"
   ],
   "outputs": [],
   "execution_count": 1
  },
  {
   "cell_type": "markdown",
   "id": "d2a4d20d",
   "metadata": {},
   "source": [
    "### Task 1: Merge Arrays\n",
    "\n",
    "**Scenario:** To streamline analysis, combine the employee details with their survey results.\n",
    "\n",
    "**Action:** Use ```np.hstack``` to horizontally stack the two arrays."
   ]
  },
  {
   "cell_type": "code",
   "id": "6f15bb12",
   "metadata": {
    "ExecuteTime": {
     "end_time": "2025-08-14T23:41:41.241768Z",
     "start_time": "2025-08-14T23:41:41.232486Z"
    }
   },
   "source": [
    "# write code here\n",
    "complete_survey_results = np.hstack((employee_details, survey_results[:, 1:]))\n",
    "print(complete_survey_results)"
   ],
   "outputs": [
    {
     "name": "stdout",
     "output_type": "stream",
     "text": [
      "[['101' 'Sales' '3' '8']\n",
      " ['102' 'HR' '5' '10']\n",
      " ['103' 'IT' '2' '9']\n",
      " ['104' 'Sales' '8' '6']\n",
      " ['105' 'IT' '6' '7']\n",
      " ['106' 'HR' '4' '8']\n",
      " ['107' 'IT' '7' '9']\n",
      " ['108' 'Sales' '1' '5']\n",
      " ['109' 'HR' '3' '7']]\n"
     ]
    }
   ],
   "execution_count": 3
  },
  {
   "cell_type": "markdown",
   "id": "f6a93493",
   "metadata": {},
   "source": [
    "### Task 2: Print Scores\n",
    "\n",
    "**Scenario:** HR wants a quick view of all happiness scores to gauge overall employee sentiment.\n",
    "\n",
    "**Action:** Display all happiness scores from the merged array."
   ]
  },
  {
   "cell_type": "code",
   "id": "6465fc6f",
   "metadata": {
    "ExecuteTime": {
     "end_time": "2025-08-14T23:42:44.688222Z",
     "start_time": "2025-08-14T23:42:44.680244Z"
    }
   },
   "source": [
    "# write code here\n",
    "happiness_scores = complete_survey_results[:, 3].astype(int)\n",
    "print(happiness_scores)"
   ],
   "outputs": [
    {
     "name": "stdout",
     "output_type": "stream",
     "text": [
      "[ 8 10  9  6  7  8  9  5  7]\n"
     ]
    }
   ],
   "execution_count": 5
  },
  {
   "cell_type": "markdown",
   "id": "18313d6c",
   "metadata": {},
   "source": [
    "### Task 3: Sort Scores\n",
    "\n",
    "**Scenario:** HR needs to identify the range of happiness scores to plan specific interventions.\n",
    "\n",
    "**Action:** Sort and print the happiness scores in ascending order."
   ]
  },
  {
   "cell_type": "code",
   "id": "388a42b8",
   "metadata": {
    "scrolled": true,
    "ExecuteTime": {
     "end_time": "2025-08-14T23:44:04.824153Z",
     "start_time": "2025-08-14T23:44:04.816191Z"
    }
   },
   "source": [
    "# write code here\n",
    "sorted_scores = np.sort(happiness_scores)\n",
    "print(sorted_scores)"
   ],
   "outputs": [
    {
     "name": "stdout",
     "output_type": "stream",
     "text": [
      "[ 5  6  7  7  8  8  9  9 10]\n"
     ]
    }
   ],
   "execution_count": 6
  },
  {
   "cell_type": "markdown",
   "id": "f8167f59",
   "metadata": {},
   "source": [
    "### Task 4: Employee Details\n",
    "\n",
    "**Scenario:** For a meeting, HR needs a list of employees' IDs and departments without other details.\n",
    "\n",
    "**Action:** Iterate through the array and print each employee's ID and department."
   ]
  },
  {
   "cell_type": "code",
   "id": "504c7fba",
   "metadata": {
    "ExecuteTime": {
     "end_time": "2025-08-14T23:47:10.282824Z",
     "start_time": "2025-08-14T23:47:10.274423Z"
    }
   },
   "source": [
    "# write code here\n",
    "for record in complete_survey_results:\n",
    "    print(f\"Employee ID: {record[0]}, Department: {record[1]}\")\n"
   ],
   "outputs": [
    {
     "name": "stdout",
     "output_type": "stream",
     "text": [
      "Employee ID: 101, Department: Sales\n",
      "Employee ID: 102, Department: HR\n",
      "Employee ID: 103, Department: IT\n",
      "Employee ID: 104, Department: Sales\n",
      "Employee ID: 105, Department: IT\n",
      "Employee ID: 106, Department: HR\n",
      "Employee ID: 107, Department: IT\n",
      "Employee ID: 108, Department: Sales\n",
      "Employee ID: 109, Department: HR\n"
     ]
    }
   ],
   "execution_count": 7
  },
  {
   "cell_type": "markdown",
   "id": "586b7e31",
   "metadata": {},
   "source": [
    "### Task 5: Happiness Scores\n",
    "\n",
    "**Scenario:** HR wants to review individual happiness scores to follow up with specific departments or employees.\n",
    "\n",
    "**Action:** Print the happiness score alongside each employee ID from the merged array."
   ]
  },
  {
   "cell_type": "code",
   "id": "1584d882",
   "metadata": {
    "ExecuteTime": {
     "end_time": "2025-08-14T23:52:54.653739Z",
     "start_time": "2025-08-14T23:52:54.644579Z"
    }
   },
   "source": [
    "# write code here\n",
    "for record in complete_survey_results:\n",
    "    print(f\"Employee ID: {record[0]}, Happiness Score: {record[3]}\")\n"
   ],
   "outputs": [
    {
     "name": "stdout",
     "output_type": "stream",
     "text": [
      "Employee ID: 101, Happiness Score: 8\n",
      "Employee ID: 102, Happiness Score: 10\n",
      "Employee ID: 103, Happiness Score: 9\n",
      "Employee ID: 104, Happiness Score: 6\n",
      "Employee ID: 105, Happiness Score: 7\n",
      "Employee ID: 106, Happiness Score: 8\n",
      "Employee ID: 107, Happiness Score: 9\n",
      "Employee ID: 108, Happiness Score: 5\n",
      "Employee ID: 109, Happiness Score: 7\n"
     ]
    }
   ],
   "execution_count": 8
  },
  {
   "cell_type": "markdown",
   "id": "3d9a92ef",
   "metadata": {},
   "source": [
    "### Task 6: Convert Scores\n",
    "\n",
    "**Scenario:** For statistical analysis, the HR team needs the happiness scores in a consistent format.\n",
    "\n",
    "**Action:** Convert the happiness scores to float type using ```astype(float)```."
   ]
  },
  {
   "cell_type": "code",
   "id": "050ee1ae",
   "metadata": {
    "ExecuteTime": {
     "end_time": "2025-08-14T23:59:43.906726Z",
     "start_time": "2025-08-14T23:59:43.898331Z"
    }
   },
   "source": [
    "# write code here\n",
    "happiness_scores_float = happiness_scores.astype(float)\n",
    "print(happiness_scores_float)"
   ],
   "outputs": [
    {
     "name": "stdout",
     "output_type": "stream",
     "text": [
      "[ 8. 10.  9.  6.  7.  8.  9.  5.  7.]\n"
     ]
    }
   ],
   "execution_count": 9
  },
  {
   "cell_type": "markdown",
   "id": "d16afb33",
   "metadata": {},
   "source": [
    "### Task 7: Average Score\n",
    "\n",
    "**Scenario:** To measure the effectiveness of current policies, HR needs the average happiness score.\n",
    "\n",
    "**Action:** Calculate and print the average happiness score of all employees."
   ]
  },
  {
   "cell_type": "code",
   "id": "94086c24",
   "metadata": {
    "ExecuteTime": {
     "end_time": "2025-08-15T00:00:02.658447Z",
     "start_time": "2025-08-15T00:00:02.651955Z"
    }
   },
   "source": [
    "# write code here\n",
    "average_happiness_score = np.mean(happiness_scores_float)\n",
    "print(f\"Average Happiness Score: {average_happiness_score}\")"
   ],
   "outputs": [
    {
     "name": "stdout",
     "output_type": "stream",
     "text": [
      "Average Happiness Score: 7.666666666666667\n"
     ]
    }
   ],
   "execution_count": 10
  },
  {
   "cell_type": "markdown",
   "id": "86902984",
   "metadata": {},
   "source": [
    "### Task 8: Unique Departments\n",
    "\n",
    "**Scenario:** HR is reviewing which departments are represented in the survey to ensure all are included in future plans.\n",
    "\n",
    "**Action:** Use ```np.unique``` to find and print all unique departments from the employee details."
   ]
  },
  {
   "cell_type": "code",
   "id": "b95ca0ef",
   "metadata": {
    "ExecuteTime": {
     "end_time": "2025-08-15T00:04:39.143475Z",
     "start_time": "2025-08-15T00:04:39.135529Z"
    }
   },
   "source": [
    "# first print departments from all the records\n",
    "departments = complete_survey_results[:, 1]\n",
    "# write code here"
   ],
   "outputs": [],
   "execution_count": 11
  },
  {
   "cell_type": "code",
   "id": "8b567172",
   "metadata": {
    "ExecuteTime": {
     "end_time": "2025-08-15T00:05:01.648163Z",
     "start_time": "2025-08-15T00:05:01.640939Z"
    }
   },
   "source": [
    "# now print unique departments\n",
    "unique_departments = np.unique(departments)\n",
    "print(\"Unique Departments:\", unique_departments)\n",
    "# write code here"
   ],
   "outputs": [
    {
     "name": "stdout",
     "output_type": "stream",
     "text": [
      "Unique Departments: ['HR' 'IT' 'Sales']\n"
     ]
    }
   ],
   "execution_count": 13
  },
  {
   "cell_type": "markdown",
   "id": "5707cbae",
   "metadata": {},
   "source": [
    "### Task 9: HR Happiness\n",
    "\n",
    "**Scenario:** HR is conducting a self-assessment to understand how their own department perceives company policies.\n",
    "\n",
    "**Action:** Calculate and print the average happiness score within the HR department."
   ]
  },
  {
   "cell_type": "code",
   "id": "2638deb2",
   "metadata": {
    "ExecuteTime": {
     "end_time": "2025-08-15T00:10:05.708053Z",
     "start_time": "2025-08-15T00:10:05.699044Z"
    }
   },
   "source": [
    "# First print all the records in HR department\n",
    "hr_recors= complete_survey_results[complete_survey_results[:, 1] == 'HR']\n",
    "print(hr_recors)\n",
    "# write code here"
   ],
   "outputs": [
    {
     "name": "stdout",
     "output_type": "stream",
     "text": [
      "[['102' 'HR' '5' '10']\n",
      " ['106' 'HR' '4' '8']\n",
      " ['109' 'HR' '3' '7']]\n"
     ]
    }
   ],
   "execution_count": 15
  },
  {
   "cell_type": "code",
   "id": "39ea4122",
   "metadata": {
    "ExecuteTime": {
     "end_time": "2025-08-15T00:10:40.091378Z",
     "start_time": "2025-08-15T00:10:40.082326Z"
    }
   },
   "source": [
    "# Now from these records only print  the happiness score column. Convert that to float using astype(float) function\n",
    "hr_happiness_scores = hr_recors[:, 3].astype(float)\n",
    "print(hr_happiness_scores)\n",
    "# write code here"
   ],
   "outputs": [
    {
     "name": "stdout",
     "output_type": "stream",
     "text": [
      "[10.  8.  7.]\n"
     ]
    }
   ],
   "execution_count": 17
  },
  {
   "cell_type": "code",
   "id": "5c836bbb",
   "metadata": {
    "ExecuteTime": {
     "end_time": "2025-08-15T00:12:28.098875Z",
     "start_time": "2025-08-15T00:12:28.091337Z"
    }
   },
   "source": [
    "# Take an average of this column using np.mean() function\n",
    "average_hr_happiness_scores = np.mean(hr_happiness_scores)\n",
    "print(f\"Average Happiness Score in HR Department: {average_hr_happiness_scores}\")\n",
    "# write code here"
   ],
   "outputs": [
    {
     "name": "stdout",
     "output_type": "stream",
     "text": [
      "Average Happiness Score in HR Department: 8.333333333333334\n"
     ]
    }
   ],
   "execution_count": 18
  },
  {
   "cell_type": "code",
   "execution_count": null,
   "id": "9ddbcc3d-ef97-48f0-a808-c4b690b0372a",
   "metadata": {},
   "outputs": [],
   "source": []
  }
 ],
 "metadata": {
  "kernelspec": {
   "display_name": "Python 3 (ipykernel)",
   "language": "python",
   "name": "python3"
  },
  "language_info": {
   "codemirror_mode": {
    "name": "ipython",
    "version": 3
   },
   "file_extension": ".py",
   "mimetype": "text/x-python",
   "name": "python",
   "nbconvert_exporter": "python",
   "pygments_lexer": "ipython3",
   "version": "3.12.1"
  }
 },
 "nbformat": 4,
 "nbformat_minor": 5
}
